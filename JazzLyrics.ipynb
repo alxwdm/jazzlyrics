{
  "nbformat": 4,
  "nbformat_minor": 0,
  "metadata": {
    "colab": {
      "name": "JazzLyrics.ipynb",
      "provenance": [],
      "collapsed_sections": [
        "TeoEBbXVAzhj"
      ]
    },
    "kernelspec": {
      "name": "python3",
      "display_name": "Python 3"
    },
    "accelerator": "GPU"
  },
  "cells": [
    {
      "cell_type": "markdown",
      "metadata": {
        "id": "prsFgzz-7mrH",
        "colab_type": "text"
      },
      "source": [
        "# DeepJazzLyrics - Intro\n",
        "\n",
        "The five (or five of the) [\"best Jazz singers of all time\"](https://www.udiscovermusic.com/stories/50-best-jazz-singers/) are Ella Fitzgerald, Frank Sinatra, Nat King Cole, Billie Holiday and Sarah Vaughan. Together, these singers cover most of the songs that today are considered to be [Jazz Standards](https://en.wikipedia.org/wiki/Jazz_standard). \n",
        "\n",
        "Jazz Standards are performed and re-interpreted by both amateur and professional musicians around the world. Take, for example, the song \"autumn leaves\". There are millions of versions of this song, including rather [traditional version from Frank Sinatra](https://youtu.be/AO-H9Ni5NiQ?t=40), [Sarah Vaughn  scatting](https://youtu.be/5cZG2WnXPgk?t=40) on the chords, an instrumental interpretation by the [famous guitar player Joe Pass](https://youtu.be/795sG19cPmU) and again a more traditional version by the contemporary artist [Eric Clapton](https://youtu.be/UQlFOX0YKlQ). \n",
        "\n",
        "Looking at all of the artists songs can be considered representative for the 20th century jazz. The goal of this notebook is to analyse the lyrics of these jazz singers. First we will look at some clustering and topic modelling approaches of the songs. Then the goal is to create a generative model that outputs a jazz song in their style. Future plans include creating a model for the song chords (leadsheet) aswell."
      ]
    },
    {
      "cell_type": "code",
      "metadata": {
        "id": "5MGHAPH61_mR",
        "colab_type": "code",
        "colab": {}
      },
      "source": [
        "# Execute after restarting runtime\n",
        "!git clone https://github.com/alxwdm/jazzlyrics"
      ],
      "execution_count": 0,
      "outputs": []
    },
    {
      "cell_type": "code",
      "metadata": {
        "id": "gLCzIQ952ADK",
        "colab_type": "code",
        "colab": {}
      },
      "source": [
        "# Execute when content on github changed\n",
        "%cd /content/jazzlyrics/\n",
        "!git pull\n",
        "%cd /content/"
      ],
      "execution_count": 0,
      "outputs": []
    },
    {
      "cell_type": "code",
      "metadata": {
        "id": "TK9wAxXY-AYy",
        "colab_type": "code",
        "colab": {}
      },
      "source": [
        "\"\"\" Setup \"\"\"\n",
        "\n",
        "from google.colab import drive\n",
        "drive.mount('/content/drive')\n",
        "\n",
        "# General\n",
        "import numpy as np\n",
        "import pandas as pd\n",
        "\n",
        "# TensorFlow\n",
        "%tensorflow_version 2.x\n",
        "import tensorflow as tf\n",
        "print('TensorFlow version: ', tf.__version__)\n",
        "\n",
        "# Visualization\n",
        "import matplotlib.pyplot as plt\n",
        "import seaborn as sns\n",
        "#import pyLDAvis\n",
        "#import pyLDAvis.gensim\n",
        "\n",
        "# NLP\n",
        "import nltk\n",
        "nltk.download('punkt')\n",
        "nltk.download('stopwords')\n",
        "import gensim\n",
        "from sklearn.feature_extraction.text import CountVectorizer, TfidfVectorizer\n",
        "from sklearn.metrics import confusion_matrix\n",
        "\n",
        "# Custom classes\n",
        "import sys\n",
        "sys.path.append('/content/jazzlyrics')\n",
        "from LyricsCrawler import LyricsCrawler\n",
        "from TopicModeller import TopicModeller\n",
        "\n",
        "print('---- setup complete. ----')"
      ],
      "execution_count": 0,
      "outputs": []
    },
    {
      "cell_type": "markdown",
      "metadata": {
        "id": "OKDA0NQo-GYG",
        "colab_type": "text"
      },
      "source": [
        "# Data Loading and Clearing\n"
      ]
    },
    {
      "cell_type": "markdown",
      "metadata": {
        "id": "TeoEBbXVAzhj",
        "colab_type": "text"
      },
      "source": [
        "## Get Lyrics via Genius API\n",
        "\n",
        "Inspired by [github/jasonqng](https://github.com/jasonqng/genius-lyrics-search) and [github/kvsingh](https://github.com/kvsingh/lyrics-sentiment-analysis)."
      ]
    },
    {
      "cell_type": "code",
      "metadata": {
        "id": "m5erj5XT5aeO",
        "colab_type": "code",
        "colab": {}
      },
      "source": [
        "# Get Top 5 Jazz Artist Lyrics\n",
        "# !Searching and extracting the lyrics may take up to 1h for the five artists!\n",
        "\n",
        "token = 'your_token_here'\n",
        "artists = ['Frank Sinatra', 'Ella Fitzgerald', 'Nat King Cole', 'Billie Holiday', 'Sarah Vaughan']\n",
        "\n",
        "lyrics = LyricsCrawler(token, artists)\n",
        "lyrics.save('JazzLyrics')\n",
        "\n",
        "df = lyrics.get_df()\n",
        "df.head(10)"
      ],
      "execution_count": 0,
      "outputs": []
    },
    {
      "cell_type": "markdown",
      "metadata": {
        "id": "wgzwz44vc_Qk",
        "colab_type": "text"
      },
      "source": [
        "## Load JazzLyrics and Clear Data"
      ]
    },
    {
      "cell_type": "code",
      "metadata": {
        "id": "VclPNvb3dHfA",
        "colab_type": "code",
        "outputId": "aa451c23-5161-434b-ecf9-4e8bef811661",
        "colab": {
          "base_uri": "https://localhost:8080/",
          "height": 206
        }
      },
      "source": [
        "df = pd.read_excel('JazzLyrics.xlsx') # must upload data manually to colab!\n",
        "df.head(5)"
      ],
      "execution_count": 3,
      "outputs": [
        {
          "output_type": "execute_result",
          "data": {
            "text/html": [
              "<div>\n",
              "<style scoped>\n",
              "    .dataframe tbody tr th:only-of-type {\n",
              "        vertical-align: middle;\n",
              "    }\n",
              "\n",
              "    .dataframe tbody tr th {\n",
              "        vertical-align: top;\n",
              "    }\n",
              "\n",
              "    .dataframe thead th {\n",
              "        text-align: right;\n",
              "    }\n",
              "</style>\n",
              "<table border=\"1\" class=\"dataframe\">\n",
              "  <thead>\n",
              "    <tr style=\"text-align: right;\">\n",
              "      <th></th>\n",
              "      <th>Artist</th>\n",
              "      <th>Title</th>\n",
              "      <th>url</th>\n",
              "      <th>lyrics</th>\n",
              "    </tr>\n",
              "  </thead>\n",
              "  <tbody>\n",
              "    <tr>\n",
              "      <th>0</th>\n",
              "      <td>Frank Sinatra</td>\n",
              "      <td>Fly Me to the Moon</td>\n",
              "      <td>https://genius.com/Frank-sinatra-fly-me-to-the...</td>\n",
              "      <td>\\n\\n[Verse 1]\\nFly me to the moon\\nLet me play...</td>\n",
              "    </tr>\n",
              "    <tr>\n",
              "      <th>1</th>\n",
              "      <td>Frank Sinatra</td>\n",
              "      <td>My Way</td>\n",
              "      <td>https://genius.com/Frank-sinatra-my-way-lyrics</td>\n",
              "      <td>\\n\\n[Verse 1]\\nAnd now, the end is near\\nAnd s...</td>\n",
              "    </tr>\n",
              "    <tr>\n",
              "      <th>2</th>\n",
              "      <td>Frank Sinatra</td>\n",
              "      <td>The Way You Look Tonight</td>\n",
              "      <td>https://genius.com/Frank-sinatra-the-way-you-l...</td>\n",
              "      <td>\\n\\nSome day, when I'm awfully low\\nWhen the w...</td>\n",
              "    </tr>\n",
              "    <tr>\n",
              "      <th>3</th>\n",
              "      <td>Frank Sinatra</td>\n",
              "      <td>Somethin’ Stupid</td>\n",
              "      <td>https://genius.com/Frank-sinatra-somethin-stup...</td>\n",
              "      <td>\\n\\n[Vocals: Frank Sinatra &amp; Nancy Sinatra]\\n\\...</td>\n",
              "    </tr>\n",
              "    <tr>\n",
              "      <th>4</th>\n",
              "      <td>Frank Sinatra</td>\n",
              "      <td>The Girl from Ipanema</td>\n",
              "      <td>https://genius.com/Frank-sinatra-the-girl-from...</td>\n",
              "      <td>\\n\\n[Frank Sinatra]\\nTall and tan and young an...</td>\n",
              "    </tr>\n",
              "  </tbody>\n",
              "</table>\n",
              "</div>"
            ],
            "text/plain": [
              "          Artist  ...                                             lyrics\n",
              "0  Frank Sinatra  ...  \\n\\n[Verse 1]\\nFly me to the moon\\nLet me play...\n",
              "1  Frank Sinatra  ...  \\n\\n[Verse 1]\\nAnd now, the end is near\\nAnd s...\n",
              "2  Frank Sinatra  ...  \\n\\nSome day, when I'm awfully low\\nWhen the w...\n",
              "3  Frank Sinatra  ...  \\n\\n[Vocals: Frank Sinatra & Nancy Sinatra]\\n\\...\n",
              "4  Frank Sinatra  ...  \\n\\n[Frank Sinatra]\\nTall and tan and young an...\n",
              "\n",
              "[5 rows x 4 columns]"
            ]
          },
          "metadata": {
            "tags": []
          },
          "execution_count": 3
        }
      ]
    },
    {
      "cell_type": "code",
      "metadata": {
        "id": "TFYCnCIAyZzy",
        "colab_type": "code",
        "outputId": "f32d9cab-a021-4694-bda4-b228b307d3cf",
        "colab": {
          "base_uri": "https://localhost:8080/",
          "height": 86
        }
      },
      "source": [
        "# In Jazz it's common to cover songs (\"Jazz Standards\").\n",
        "# The covered versions may vary a lot, but the text usually stays the same.\n",
        "# Duplicate Titles should therefore be dropped.\n",
        "\n",
        "print('Total Titles:  ', len(df['Title']))\n",
        "print('Unique Titles: ', len(df['Title'].unique()))\n",
        "\n",
        "df.drop_duplicates(subset='Title', inplace=True)\n",
        "print('---------')\n",
        "print('Titles after dropping:  ', len(df['Title']))"
      ],
      "execution_count": 4,
      "outputs": [
        {
          "output_type": "stream",
          "text": [
            "Total Titles:   2856\n",
            "Unique Titles:  2424\n",
            "---------\n",
            "Titles after dropping:   2424\n"
          ],
          "name": "stdout"
        }
      ]
    },
    {
      "cell_type": "code",
      "metadata": {
        "id": "b8dRHWs0zdpn",
        "colab_type": "code",
        "outputId": "25c99a4d-f036-474b-b9d1-b5628075d09e",
        "colab": {
          "base_uri": "https://localhost:8080/",
          "height": 86
        }
      },
      "source": [
        "# Remove song structures in brakets and triple newlines.\n",
        "\n",
        "# Remove song structures like [Verse 1] etc.\n",
        "regex = r'\\[.+\\](?!=[\\n]{1})' # remove []\n",
        "df['lyrics'] = df['lyrics'].str.replace(regex,'',regex=True)\n",
        "regex = r'\\(.+\\)(?!=[\\n]{1})' # remove ()\n",
        "df['lyrics'] = df['lyrics'].str.replace(regex,'',regex=True)\n",
        "regex = r'\\{.+\\}(?!=[\\n]{1})' # remove {}\n",
        "df['lyrics'] = df['lyrics'].str.replace(regex,'',regex=True)\n",
        "regex = r'\\[.+\\}(?!=[\\n]{1})' # one entry with a typo\n",
        "df['lyrics'] = df['lyrics'].str.replace(regex,'',regex=True)\n",
        "\n",
        "# remove triple newlines\n",
        "regex = r'[\\n]{3,}' \n",
        "df['lyrics'] = df['lyrics'].str.replace(regex,'\\n\\n',regex=True)\n",
        "\n",
        "# Test if clearing was succesfull\n",
        "print('No []  remaining: ', df[df['lyrics'].str.contains('\\[')==True].empty)\n",
        "print('No {}  remaining: ', df[df['lyrics'].str.contains('\\{')==True].empty)\n",
        "print('No ()  remaining: ', df[df['lyrics'].str.contains('\\(')==True].empty)\n",
        "print('No 3\\\\n remaining: ', df[df['lyrics'].str.contains('\\n\\n\\n')==True].empty)\n",
        "\n",
        "# The remaining ()-brakets are part of the lyrics and should be kept!"
      ],
      "execution_count": 5,
      "outputs": [
        {
          "output_type": "stream",
          "text": [
            "No []  remaining:  True\n",
            "No {}  remaining:  True\n",
            "No ()  remaining:  False\n",
            "No 3\\n remaining:  True\n"
          ],
          "name": "stdout"
        }
      ]
    },
    {
      "cell_type": "code",
      "metadata": {
        "id": "GEMWTYaQEu5d",
        "colab_type": "code",
        "outputId": "96f85ba7-90a9-44da-8963-a1c48f50b46b",
        "colab": {
          "base_uri": "https://localhost:8080/",
          "height": 52
        }
      },
      "source": [
        "# Check for NaNs and drop them.\n",
        "\n",
        "print('NaN value count (before dropping): ', df['lyrics'].isna().sum())\n",
        "df.dropna(inplace=True)\n",
        "print('NaN value count (after dropping):  ', df['lyrics'].isna().sum())"
      ],
      "execution_count": 6,
      "outputs": [
        {
          "output_type": "stream",
          "text": [
            "NaN value count (before dropping):  1\n",
            "NaN value count (after dropping):   0\n"
          ],
          "name": "stdout"
        }
      ]
    },
    {
      "cell_type": "markdown",
      "metadata": {
        "id": "3cKVng59dT9N",
        "colab_type": "text"
      },
      "source": [
        "# Analysis of the Jazz Lyrics\n",
        "\n",
        "Analyizing song texts is part of a field of study called Music Information Retrieval (MIR). MIR yields an enormous business potential for the music industry, for example in developing sophisticated recommender systems for streaming services. The \"International Society for Music Information Retrieval\" ([ISMIR](https://ismir.net/)) is hosting annual conferences on this topic.\n",
        "\n",
        "Most of the publicly available releases of lyric analysis deal with a large number of songs throughout different genres, e.g. using the [Million Song Dataset](http://millionsongdataset.com/). Also, there is research regarding the addition of labelled examples and using supervised learning methods for music classification. However, my \"self-crawled\" dataset is genre-specific, fairly small and unlabelled so I guess analyising it will be quite difficult. \n",
        "\n",
        "I try to pursue the following analysis ideas:\n",
        "* Manually analyse the most frequent topic: love.\n",
        "* (Unsupervised) topic modelling using LDA.\n",
        "* Clustering songs with document similarity.\n",
        "* Sentiment analysis (happy/sad), maybe using a pre-trained model."
      ]
    },
    {
      "cell_type": "markdown",
      "metadata": {
        "id": "0pcDjxssmgBK",
        "colab_type": "text"
      },
      "source": [
        "## Is Jazz all about love?\n",
        "\n",
        "The obviously most frequent topic in jazz songs is love. If this really is the dominating topic, then any clustering attempts on topics of the jazz lyrics dataset could be difficult. Therefore, I'll carry out a manual analysis of the love topic first. \n",
        "\n",
        "To do so, I'll check how many songs explicitly contain the word \"love\" in any form and tag them. Of course, love can also be expressed implicitly with words such as \"kiss\" and \"heart\" and so on. But as a best guess, this leads to the most accurate results (heart for example could describe sentiments in general) and leaves room for machine-learning approaches for topic modelling of the \"not so straightforward\" categories."
      ]
    },
    {
      "cell_type": "code",
      "metadata": {
        "id": "kyFvDN3IIF8O",
        "colab_type": "code",
        "outputId": "3cb1d359-001b-4a56-e790-8d637c39aa52",
        "colab": {
          "base_uri": "https://localhost:8080/",
          "height": 266
        }
      },
      "source": [
        "# How many songs are love songs?\n",
        "\n",
        "# For topic modelling, create a new column with categorical encoding.\n",
        "# The topic_dict will be updated with each new topic to be found.\n",
        "\n",
        "df['topic'] = 0\n",
        "topic_dict = {0: 'tbd'}\n",
        "\n",
        "# choose love words\n",
        "love_words = ['love']\n",
        "# PorterStemmer is used for stemming\n",
        "porter = nltk.PorterStemmer()\n",
        "# stemm love_words\n",
        "love_words = [porter.stem(t) for t in love_words]\n",
        "\n",
        "love_count = 0\n",
        "total_count = int(len(df['lyrics']))\n",
        "\n",
        "# iterate over df\n",
        "for idx, string in df['lyrics'].iteritems():\n",
        "  # tokenize and stem the lyrics\n",
        "  tokens = nltk.word_tokenize(string)\n",
        "  stemmed = [porter.stem(t) for t in tokens]\n",
        "  # check if the lyrics contain a \"love word\"\n",
        "  for love_word in love_words:\n",
        "    if any(love_word in s for s in stemmed):\n",
        "      # increase love counter\n",
        "      love_count = love_count+1\n",
        "      # update topic\n",
        "      df.at[idx, 'topic'] = 1\n",
        "      break\n",
        "\n",
        "# update topic dictionary\n",
        "topic_dict[1] = 'love'\n",
        "\n",
        "# Create pie chart\n",
        "labels = ['love', 'other']\n",
        "sizes = [love_count, total_count-love_count]\n",
        "colors = ['firebrick', 'slategrey']\n",
        "explode = (0, 0.1)\n",
        "fig1, ax1 = plt.subplots()\n",
        "ax1.pie(sizes, explode=explode, labels=labels, autopct='%1.0f%%',\n",
        "        colors=colors, shadow=False, startangle=90, textprops={'fontsize': 14})\n",
        "ax1.axis('equal')  \n",
        "ax1.set_title('JazzLyrics Dataset - Songs containing love', fontsize= 16)\n",
        "plt.show()"
      ],
      "execution_count": 0,
      "outputs": [
        {
          "output_type": "display_data",
          "data": {
            "image/png": "[encoded data removed]",
            "text/plain": [
              "<Figure size 432x288 with 1 Axes>"
            ]
          },
          "metadata": {
            "tags": []
          }
        }
      ]
    },
    {
      "cell_type": "markdown",
      "metadata": {
        "id": "05JwHrElPpc4",
        "colab_type": "text"
      },
      "source": [
        "## Topic Modelling with LDA\n",
        "\n",
        "Now using a machine-learning approach, the lyrics are count-vectorized ignoring english stop words as well as uncommon (min_df - percentage or absolute count) and very common (max_df - percentage or absolute count) words. The resultig sparse matrix is then converted to a gensim corpus. For topic modelling, a Latent Dirichlet Allocation (LDA) is trained. This algorithm uses a statistical model to find relevant topic-words and get the topic distribution of a given document (meaning it assumes that a document contains multiple topics). The LDA is evaluated using the coherence score to get the optimal number of topics. The most indicative words for each topic are extracted to label the topic."
      ]
    },
    {
      "cell_type": "code",
      "metadata": {
        "id": "qOdpBCCTml4e",
        "colab_type": "code",
        "colab": {}
      },
      "source": [
        "# Hyperparameters for topic modelling\n",
        "lda_config = {\n",
        "'n_topics': 4,         # how many topics\n",
        "'n_passes': 25,        # how many passes for modelling\n",
        "'min_docfreq': 25,     # minimum document frequency to include in vectorizer\n",
        "'max_docfreq': 0.7,    # maximum document frequency to include in vectorizer\n",
        "'ngrams': (1,2),       # n-gram range, e.g. (1,1) means only single words\n",
        "'n_words': 5,          # how many topic-related words are displayed\n",
        "'topic_range': (2,20), # topic range for optimizing number of topics\n",
        "'ext_stop_words': ['just', 'like', 'know'], # additional custom stop words\n",
        "}"
      ],
      "execution_count": 0,
      "outputs": []
    },
    {
      "cell_type": "markdown",
      "metadata": {
        "id": "tGV9W0ajZURs",
        "colab_type": "text"
      },
      "source": [
        "Ideally, the coherence converges with increasing number of topics. Then, the optimum is chosen at the smallest number of topics where the coherence is still close to the converged value. However, it is application specific, so still a smaller or larger number of topics can be chosen. The overall goal is to get topics that are as distinct as possible with topic-indicative words as interpretable as possible. "
      ]
    },
    {
      "cell_type": "code",
      "metadata": {
        "id": "e3emYak-J6_A",
        "colab_type": "code",
        "outputId": "91040f0e-664e-45a5-a891-de40ef6d8c77",
        "colab": {
          "base_uri": "https://localhost:8080/",
          "height": 350
        }
      },
      "source": [
        "# Let's optimize LDA with all lyrics\n",
        "topicmodel = TopicModeller(lda_config, df['lyrics'])\n",
        "topicmodel.optimize()"
      ],
      "execution_count": 0,
      "outputs": [
        {
          "output_type": "stream",
          "text": [
            "Running optimization with topic range from 2 to 20\n",
            "Bag-of-Words shape:  (2423, 605)\n",
            "Optimization completed, plotting results...\n"
          ],
          "name": "stdout"
        },
        {
          "output_type": "display_data",
          "data": {
            "image/png": "[encoded data removed]",
            "text/plain": [
              "<Figure size 432x288 with 1 Axes>"
            ]
          },
          "metadata": {
            "tags": []
          }
        }
      ]
    },
    {
      "cell_type": "code",
      "metadata": {
        "id": "A61BJRKeA0Zi",
        "colab_type": "code",
        "outputId": "9be8c087-995d-484a-99e9-ea3b9c794898",
        "colab": {
          "base_uri": "https://localhost:8080/",
          "height": 173
        }
      },
      "source": [
        "# Let's try 4 topics:\n",
        "topicmodel = TopicModeller(lda_config, df['lyrics'])\n",
        "new_config = lda_config.copy()\n",
        "new_config['n_topics'] = 4\n",
        "topicmodel.update(new_config) \n",
        "topicmodel.run()\n",
        "_, topic_matrix, _ = topicmodel.get_lda()\n",
        "\n",
        "topic_matrix"
      ],
      "execution_count": 0,
      "outputs": [
        {
          "output_type": "stream",
          "text": [
            "Bag-of-Words shape:  (2423, 605)\n"
          ],
          "name": "stdout"
        },
        {
          "output_type": "execute_result",
          "data": {
            "text/plain": [
              "[(0,\n",
              "  '0.152*\"love\" + 0.031*\"heart\" + 0.017*\"never\" + 0.015*\"care\" + 0.015*\"love love\"'),\n",
              " (1,\n",
              "  '0.035*\"dream\" + 0.023*\"night\" + 0.020*\"heart\" + 0.017*\"kiss\" + 0.017*\"love\"'),\n",
              " (2,\n",
              "  '0.035*\"babi\" + 0.034*\"make\" + 0.026*\"good\" + 0.023*\"look\" + 0.017*\"time\"'),\n",
              " (3,\n",
              "  '0.037*\"come\" + 0.030*\"blue\" + 0.021*\"littl\" + 0.020*\"sing\" + 0.016*\"back\"')]"
            ]
          },
          "metadata": {
            "tags": []
          },
          "execution_count": 14
        }
      ]
    },
    {
      "cell_type": "markdown",
      "metadata": {
        "id": "w7YNGZeXDp78",
        "colab_type": "text"
      },
      "source": [
        "Given the small and poetic dataset, I'll stick with 4 categories even though the coherence is far from convergecnce. The topics found by the LDA can be categorized as follows:\n",
        "\n",
        "0: Everything about love!\n",
        "\n",
        "1: Also a love topic, but more focused on wishes and dreams. Maybe dreaming about love?\n",
        "\n",
        "2: Songs about women (which might also be love songs but don't explicitly contain words like \"love\", \"kiss\", etc.).\n",
        "\n",
        "3: Everything else, like feelings in general, singing, longing.\n",
        "\n",
        "Now it would be interessting to compare the manually categorized love songs with the topics proposed by LDA. As the LDA assumes that a document contains multiple topics and therefore outputs a topic distribution, I'll use the most-relevant topic for labelling.\n"
      ]
    },
    {
      "cell_type": "code",
      "metadata": {
        "id": "LzCP0iwIvD4R",
        "colab_type": "code",
        "outputId": "19478a55-7ffd-46cd-d870-e0d904721ac7",
        "colab": {
          "base_uri": "https://localhost:8080/",
          "height": 300
        }
      },
      "source": [
        "# LDA Analysis\n",
        "# Compare manually labelled love songs vs. love topics from LDA.\n",
        "\n",
        "# Add ldatopics to df.\n",
        "df['ldatopic'] = topicmodel.label()\n",
        "\n",
        "# Define love topics\n",
        "df['lda_islove'] = df['ldatopic'].apply(lambda x: x==0 or x==1 or x==2).astype(int)\n",
        "\n",
        "# Compare results\n",
        "from sklearn.metrics import confusion_matrix\n",
        "conf_matrix = confusion_matrix(df['lda_islove'], df['topic'])\n",
        "tn, fp, fn, tp = conf_matrix.ravel() \n",
        "precision = tp / (tp + fp)\n",
        "recall = tp / (tp + fn)\n",
        "print('F1-Score: {0:.2f}'.format(2*(precision*recall/(precision+recall))))\n",
        "\n",
        "fig, ax = plt.subplots()\n",
        "ax=sns.heatmap(conf_matrix, annot=True, annot_kws={\"size\": 16}, \n",
        "            cbar=False, square=True, fmt='g', cmap='Reds',\n",
        "            xticklabels = ['manual other', 'manual love'], \n",
        "            yticklabels = ['lda other', 'lda love'])\n",
        "ax.set_title('love labelling - manual vs. LDA', fontsize=16)\n",
        "plt.yticks((0.5,1.5),('lda other', 'lda love'), va='center');"
      ],
      "execution_count": 0,
      "outputs": [
        {
          "output_type": "stream",
          "text": [
            "F1-Score: 0.74\n"
          ],
          "name": "stdout"
        },
        {
          "output_type": "display_data",
          "data": {
            "image/png": "[encoded data removed]",
            "text/plain": [
              "<Figure size 432x288 with 1 Axes>"
            ]
          },
          "metadata": {
            "tags": []
          }
        }
      ]
    },
    {
      "cell_type": "markdown",
      "metadata": {
        "id": "LGZnKcZxa0n5",
        "colab_type": "text"
      },
      "source": [
        "The comparison leads to an F1-Score of 0.74. As we can see in the confusion matrix, the LDA assigns a different \"most-relevant\" topic for only 179 manually labelled love songs which is about 7% of all songs. However, LDA categorizes 700 more songs as love songs (although category 2, the \"songs about women\", are not necessarily all love songs so this category is not distinct enough). \n",
        "\n",
        "Because of the large true positives of the manually labelled love songs, I decide to keep the manually assigned label and train the LDA only on the \"other\" songs to find more distinct categories. It turns out that this is actually the case.\n",
        "\n",
        "\n",
        "\n"
      ]
    },
    {
      "cell_type": "code",
      "metadata": {
        "id": "jQRYkrbrrN8p",
        "colab_type": "code",
        "outputId": "dd07861e-f55b-4376-a972-f5c9942d290c",
        "colab": {
          "base_uri": "https://localhost:8080/",
          "height": 173
        }
      },
      "source": [
        "df_other = df.where(df['topic']==0).dropna()\n",
        "topicmodel_other = TopicModeller(lda_config, df_other['lyrics'])\n",
        "new_config = lda_config.copy()\n",
        "new_config['min_docfreq'] = 10\n",
        "new_config['n_topics'] = 4\n",
        "topicmodel_other.update(new_config)\n",
        "topicmodel_other.run()\n",
        "_, topic_matrix, _ = topicmodel_other.get_lda()\n",
        "\n",
        "topic_matrix"
      ],
      "execution_count": 0,
      "outputs": [
        {
          "output_type": "stream",
          "text": [
            "Bag-of-Words shape:  (994, 679)\n"
          ],
          "name": "stdout"
        },
        {
          "output_type": "execute_result",
          "data": {
            "text/plain": [
              "[(0,\n",
              "  '0.022*\"babi\" + 0.022*\"good\" + 0.017*\"kiss\" + 0.014*\"right\" + 0.014*\"tell\"'),\n",
              " (1,\n",
              "  '0.022*\"time\" + 0.019*\"come\" + 0.018*\"heart\" + 0.017*\"never\" + 0.015*\"long\"'),\n",
              " (2,\n",
              "  '0.037*\"dream\" + 0.018*\"come\" + 0.016*\"star\" + 0.015*\"night\" + 0.015*\"could\"'),\n",
              " (3,\n",
              "  '0.029*\"blue\" + 0.024*\"make\" + 0.021*\"song\" + 0.020*\"come\" + 0.019*\"swing\"')]"
            ]
          },
          "metadata": {
            "tags": []
          },
          "execution_count": 9
        }
      ]
    },
    {
      "cell_type": "code",
      "metadata": {
        "id": "yhLv-5SBBHz4",
        "colab_type": "code",
        "outputId": "5409968e-5c47-4921-b2e1-df4a39c09184",
        "colab": {
          "base_uri": "https://localhost:8080/",
          "height": 280
        }
      },
      "source": [
        "# get labels and add +2 to categorical value (0: tbd, 1: love)\n",
        "df_other['ldatopic'] = [x+2 for x in topicmodel_other.label()]\n",
        "topic_dict[2] = 'baby'\n",
        "topic_dict[3] = 'time'\n",
        "topic_dict[4] = 'dreams'\n",
        "topic_dict[5] = 'sing & swing'\n",
        "\n",
        "# Add to \"root\" df\n",
        "df['topic'].update(df_other['ldatopic'])\n",
        "df.head(10)\n",
        "\n",
        "# Pie-Plot\n",
        "labels = ['love', 'baby & girl', 'time', 'dreams', 'sing & swing']\n",
        "love_count = len(df['topic'].where(df['topic'] == 1).dropna())\n",
        "baby_count = len(df['topic'].where(df['topic'] == 2).dropna())\n",
        "time_count = len(df['topic'].where(df['topic'] == 3).dropna())\n",
        "drms_count = len(df['topic'].where(df['topic'] == 4).dropna())\n",
        "sing_count = len(df['topic'].where(df['topic'] == 5).dropna())\n",
        "sizes = [love_count, baby_count, time_count, drms_count, sing_count]\n",
        "colors = ['firebrick', 'hotpink', 'slategrey', 'cornflowerblue', 'lightsteelblue']\n",
        "explode = (0.1, 0, 0, 0, 0)\n",
        "fig1, ax1 = plt.subplots()\n",
        "ax1.pie(sizes, explode=explode, labels=labels, autopct='%1.0f%%',\n",
        "        colors=colors, shadow=False, startangle=90, textprops={'fontsize': 14})\n",
        "ax1.axis('equal')  \n",
        "ax1.set_title('JazzLyrics Dataset - Detailled song categories', fontsize= 16, pad=20)\n",
        "plt.show()"
      ],
      "execution_count": 0,
      "outputs": [
        {
          "output_type": "display_data",
          "data": {
            "image/png": "[encoded data removed]",
            "text/plain": [
              "<Figure size 432x288 with 1 Axes>"
            ]
          },
          "metadata": {
            "tags": []
          }
        }
      ]
    },
    {
      "cell_type": "code",
      "metadata": {
        "id": "xhEv8CjfRadA",
        "colab_type": "code",
        "outputId": "74c4f7a6-fede-4944-a7cd-490a92b976c9",
        "colab": {
          "base_uri": "https://localhost:8080/",
          "height": 293
        }
      },
      "source": [
        "# Print examples for each category\n",
        "\n",
        "love_df = df['Title'].where(df['topic'] == 1).dropna().sample(5, random_state=93)\n",
        "baby_df = df['Title'].where(df['topic'] == 2).dropna().sample(5, random_state=60)\n",
        "time_df = df['Title'].where(df['topic'] == 3).dropna().sample(5, random_state=18)\n",
        "drms_df = df['Title'].where(df['topic'] == 4).dropna().sample(5, random_state=90)\n",
        "sing_df = df['Title'].where(df['topic'] == 5).dropna().sample(5, random_state=15)\n",
        "\n",
        "frame = {'Love': love_df.values, \n",
        "         'Baby': baby_df.values, \n",
        "         'Time': time_df.values,\n",
        "         'Dreams': drms_df.values,\n",
        "         'Sing & Swing': sing_df.values}\n",
        "pd.DataFrame(frame)"
      ],
      "execution_count": 0,
      "outputs": [
        {
          "output_type": "execute_result",
          "data": {
            "text/html": [
              "<div>\n",
              "<style scoped>\n",
              "    .dataframe tbody tr th:only-of-type {\n",
              "        vertical-align: middle;\n",
              "    }\n",
              "\n",
              "    .dataframe tbody tr th {\n",
              "        vertical-align: top;\n",
              "    }\n",
              "\n",
              "    .dataframe thead th {\n",
              "        text-align: right;\n",
              "    }\n",
              "</style>\n",
              "<table border=\"1\" class=\"dataframe\">\n",
              "  <thead>\n",
              "    <tr style=\"text-align: right;\">\n",
              "      <th></th>\n",
              "      <th>Love</th>\n",
              "      <th>Baby</th>\n",
              "      <th>Time</th>\n",
              "      <th>Dreams</th>\n",
              "      <th>Sing &amp; Swing</th>\n",
              "    </tr>\n",
              "  </thead>\n",
              "  <tbody>\n",
              "    <tr>\n",
              "      <th>0</th>\n",
              "      <td>I Wonder Who’s Kissing Her Now</td>\n",
              "      <td>My Baby Just Cares For Me</td>\n",
              "      <td>The Summer Knows</td>\n",
              "      <td>Perdido</td>\n",
              "      <td>Get Your Kicks On Route 66</td>\n",
              "    </tr>\n",
              "    <tr>\n",
              "      <th>1</th>\n",
              "      <td>Fly Me to the Moon</td>\n",
              "      <td>What a Funny Girl (You Used to Be)</td>\n",
              "      <td>Sunday, Monday or Always</td>\n",
              "      <td>Dreamy</td>\n",
              "      <td>Back in My Arms</td>\n",
              "    </tr>\n",
              "    <tr>\n",
              "      <th>2</th>\n",
              "      <td>Tenderly</td>\n",
              "      <td>I’m Sorry I Made You Cry</td>\n",
              "      <td>Spring Will Be A Little Late This Year</td>\n",
              "      <td>The Nearness Of You</td>\n",
              "      <td>Brahm’s Lullaby</td>\n",
              "    </tr>\n",
              "    <tr>\n",
              "      <th>3</th>\n",
              "      <td>Remind Me</td>\n",
              "      <td>Solamente una Vez</td>\n",
              "      <td>I’m Gonna Live ’Til I Die</td>\n",
              "      <td>What Shall I Say?</td>\n",
              "      <td>I Get a Kick Out of You (Cinematic Orchestra r...</td>\n",
              "    </tr>\n",
              "    <tr>\n",
              "      <th>4</th>\n",
              "      <td>So In Love</td>\n",
              "      <td>I’m Scared</td>\n",
              "      <td>Don’t Dream Of Anybody But Me</td>\n",
              "      <td>I Could Have Danced All Night</td>\n",
              "      <td>Sing, Song, Swing</td>\n",
              "    </tr>\n",
              "  </tbody>\n",
              "</table>\n",
              "</div>"
            ],
            "text/plain": [
              "                             Love  ...                                       Sing & Swing\n",
              "0  I Wonder Who’s Kissing Her Now  ...                         Get Your Kicks On Route 66\n",
              "1              Fly Me to the Moon  ...                                    Back in My Arms\n",
              "2                        Tenderly  ...                                    Brahm’s Lullaby\n",
              "3                       Remind Me  ...  I Get a Kick Out of You (Cinematic Orchestra r...\n",
              "4                      So In Love  ...                                  Sing, Song, Swing\n",
              "\n",
              "[5 rows x 5 columns]"
            ]
          },
          "metadata": {
            "tags": []
          },
          "execution_count": 144
        }
      ]
    },
    {
      "cell_type": "markdown",
      "metadata": {
        "id": "BTo8FPI9WtGq",
        "colab_type": "text"
      },
      "source": [
        "Printing out some examples of the song titles of the respective categories, we can see that the classification is actually quite good, though it is of course far from perfect. As already mentioned, this is due to the short, very poetic (and therefore ambiguous) lyrics in Jazz, and also because of the relatively small dataset.\n",
        "\n",
        "Positive examples from the \"Love\" category are all-time favourite love songs like \"Fly me to the Moon\" by Frank Sinatra, \"Tenderly\" by Ella Fitzgerald and \"So In Love\". The \"Baby/Girls\" category contains \"My Baby Just Cares For Me\" and \"What a Funny Girl\". In the \"Time\" category there are songs like \"The Summer Knows\", \"Sunday, Monday or Always\" and \"Spring Will Be A Little Late This Year\". Dreams contains \"Perdido\", a song about memories of a farewell, \"Dreamy\" and \"I Could Have Danced All Night\". Finally, Sing & Swing contains the perfectly matching song \"Sing, Song, Swing\". \n"
      ]
    },
    {
      "cell_type": "markdown",
      "metadata": {
        "id": "GQcoGmtJ5Wj-",
        "colab_type": "text"
      },
      "source": [
        "# Generative Lyrics Model\n",
        "\n",
        "**In Progress!** The goal is to implement a generative model that outputs lyrics for a jazz song, then write some chords and record it! :)\n",
        "\n",
        "To do so, the first question is whether to implement the generative model on a character level basis or on words. Andrej Karpathy has achieved fun results with character level language models in [his blog post](http://karpathy.github.io/2015/05/21/rnn-effectiveness/) on poems, wikipedia entries and even Linux source code. However, for the Shakespeare LSTM the corpus is fairly large (all of Shakespeare's work!) and training has taken a few hours. I don't want to spend too much training time to teach my model how to speak english, so I'll go for a word based approach first and see how the model performs.\n",
        "\n",
        "For reference, here's also a link to a character level language model from the [keras team](https://github.com/keras-team/keras/blob/master/examples/lstm_text_generation.py)."
      ]
    },
    {
      "cell_type": "code",
      "metadata": {
        "id": "BAW1-Ob83qOy",
        "colab_type": "code",
        "colab": {}
      },
      "source": [
        "# Hyperparameters for lyrics generation with LSTM\n",
        "\"\"\"\n",
        "All hyperparameters for generative model of song lyrics will be set here.\n",
        "config dict will be updated as work progresses.\n",
        "\"\"\"\n",
        "lyrics_config = {\n",
        "'mini_batch_len': 10,            # length of window size for mini batches\n",
        "'mini_batch_step': 2             # step size (dilation) for mini batch creation\n",
        "}"
      ],
      "execution_count": 0,
      "outputs": []
    },
    {
      "cell_type": "code",
      "metadata": {
        "id": "0wYq10rM7HYs",
        "colab_type": "code",
        "colab": {}
      },
      "source": [
        "# LyricsGenerator Class \n",
        "# work in progress, will be put into separate file once it's finished.\n",
        "\n",
        "from nltk.tokenize import word_tokenize\n",
        "\n",
        "class LyricsGenerator:\n",
        "  \"\"\"\n",
        "  (work in progress)\n",
        "  This class is used for training a generative model that outputs Jazz lyrics.\n",
        "  \"\"\"\n",
        "\n",
        "  def __init__(self, config, corpus):\n",
        "    self.raw = corpus\n",
        "    self.mini_batch_len = config['mini_batch_len']\n",
        "    self.mini_batch_step = config['mini_batch_step']\n",
        "    return\n",
        "\n",
        "\n",
        "  def _preproc(self):\n",
        "    \"\"\"\n",
        "    This function preprocesses the input corpus:\n",
        "      * tokenizes the input corpus\n",
        "      * creates word-id-maps\n",
        "      * vectorizes the input corpus\n",
        "    \"\"\"\n",
        "    # Tokenize corpus using nltk tokenizer\n",
        "    corpus = self.raw.apply(word_tokenize)\n",
        "\n",
        "    # Lowercase corpus and get individual words\n",
        "    for idx, s in corpus.iteritems():\n",
        "      corpus[idx] = [s.lower() for s in corpus[idx]]\n",
        "\n",
        "    # Get unique words from corpus\n",
        "    words = [[s for s in corpus[idx]]]\n",
        "    for idx, s in corpus.iteritems():\n",
        "      words.append([s for s in corpus[idx]])\n",
        "    words = [word for s in words for word in s]\n",
        "    unique_words = sorted(list(set(words)))\n",
        "    print('Total Word count:  ', len(words))\n",
        "    print('Unique word count: ', len(unique_words))\n",
        "\n",
        "    # Create word <-> id maps\n",
        "    self.word_id = dict((c, i) for i, c in enumerate(unique_words))\n",
        "    self.id_word = dict((i, c) for i, c in enumerate(unique_words))\n",
        "\n",
        "    # Vectorize corpus\n",
        "    self.tok_corpus = []\n",
        "    for idx, s in corpus.iteritems():\n",
        "      document = [word for word in corpus[idx]]\n",
        "      tok_doc = [self.word_id[word] for word in document]\n",
        "      self.tok_corpus.append(tok_doc)\n",
        "\n",
        "    return self.word_id, self.id_word, self.tok_corpus\n",
        "\n",
        "\n",
        "  def _generateBatches(self):\n",
        "    \"\"\"\n",
        "    This function generates batches that can be used for training.\n",
        "      * Batches are in shape (m, T, n), where each sample is zero-padded\n",
        "        to the maximum song length. \n",
        "      * Creates X and Y data. \n",
        "      * Also creates sample weights, with zero-padded parts having zero weight.\n",
        "    \"\"\"\n",
        "    # Get longest sample\n",
        "    longest_song = max(tok_corpus,key=len)\n",
        "    max_len = len(longest_song)\n",
        "    print('Maximum song length is', max_len, 'words.')\n",
        "\n",
        "    # Create X and weights array\n",
        "    self.X = []\n",
        "    self.weights = []\n",
        "    for song in tok_corpus:\n",
        "      # Get zero-padded array for each song\n",
        "      arr = np.asarray(song)\n",
        "      _arr = np.zeros(max_len - np.size(arr))\n",
        "      sample = [np.concatenate((arr, _arr))]\n",
        "      self.X.append(sample)\n",
        "      # Get sample weights (zero padded sequence = zero weight)\n",
        "      sample_weight = [np.concatenate((np.ones(arr.shape), np.zeros(_arr.shape)), axis=0)]\n",
        "      self.weights.append(sample_weight)\n",
        "\n",
        "    # Create X and weights array\n",
        "    self.X = np.swapaxes(np.asarray(self.X),1,2)\n",
        "    self.weights = np.swapaxes(np.asarray(self.weights),1,2)\n",
        "\n",
        "    # Create Y array (TODO: Change '!' symbol to new line as last token)\n",
        "    self.Y = np.asarray([np.append(x[1:], word_id['!']) for x in self.X])\n",
        "\n",
        "    # Reshape dimensions\n",
        "    self.Y = np.expand_dims(self.Y, axis=2)\n",
        "    self.weights = self.weights[:,:,0]\n",
        "\n",
        "    # Print output shapes\n",
        "    print('Shape of X:       ', self.X.shape)\n",
        "    print('Shape of Y:       ', self.Y.shape)\n",
        "    print('Shape of weights: ', self.weights.shape)\n",
        "\n",
        "    return \n",
        "\n",
        "\n",
        "  def _generateMiniBatches(self):\n",
        "    \"\"\"\n",
        "    This function generates semi-redundant mini batches that can be used \n",
        "    for training.\n",
        "      * The shape is (m, T_mini, n) where T_mini is the window size.\n",
        "      * Mini-batches are dilated with given step size.\n",
        "    \"\"\"\n",
        "\n",
        "    # Init array\n",
        "    self.X_mini = []\n",
        "\n",
        "    # iterate over tokenized corpus\n",
        "    for song in tok_corpus:\n",
        "      # iterate over one song from tokenized corpus\n",
        "      for i in range(0, len(song) - self.mini_batch_len, self.mini_batch_step):\n",
        "        self.X_mini.append(song[i: i + self.mini_batch_len])\n",
        "\n",
        "    # Create X and Y array in correct shape\n",
        "    self.X_mini = np.asarray(self.X_mini)\n",
        "    self.X_mini = np.expand_dims(self.X_mini, axis=2)\n",
        "    self.Y_mini = np.asarray([np.append(x[1:], word_id['!']) for x in self.X_mini])\n",
        "    self.Y_mini = np.expand_dims(self.Y_mini, axis=2)\n",
        "\n",
        "    # Print output shapes\n",
        "    print('Shape of X_mini:  ', self.X_mini.shape)\n",
        "    print('Shape of Y_mini:  ', self.Y_mini.shape)\n",
        "\n",
        "    return "
      ],
      "execution_count": 0,
      "outputs": []
    },
    {
      "cell_type": "code",
      "metadata": {
        "id": "GMJta3SFdeU8",
        "colab_type": "code",
        "colab": {}
      },
      "source": [
        "# Create LyricsGenerator instance\n",
        "lyricsgen = LyricsGenerator(lyrics_config, df['lyrics'])"
      ],
      "execution_count": 0,
      "outputs": []
    }
  ]
}